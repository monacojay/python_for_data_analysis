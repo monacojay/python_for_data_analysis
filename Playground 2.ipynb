{
 "cells": [
  {
   "cell_type": "code",
   "execution_count": 1,
   "metadata": {},
   "outputs": [
    {
     "data": {
      "text/plain": [
       "'22'"
      ]
     },
     "execution_count": 1,
     "metadata": {},
     "output_type": "execute_result"
    }
   ],
   "source": [
    "\"2\" + \"2\""
   ]
  },
  {
   "cell_type": "code",
   "execution_count": 2,
   "metadata": {},
   "outputs": [],
   "source": [
    "# ask user for name then display welcome"
   ]
  },
  {
   "cell_type": "code",
   "execution_count": 10,
   "metadata": {},
   "outputs": [
    {
     "name": "stdin",
     "output_type": "stream",
     "text": [
      "Who are you?\n",
      " Jared\n"
     ]
    },
    {
     "name": "stdout",
     "output_type": "stream",
     "text": [
      "Jared!! Hello and welcome!!!\n"
     ]
    }
   ],
   "source": [
    "welcome = \"Hello and welcome!!!\"\n",
    "user_input = input(\"Who are you?\\n\")\n",
    "print(user_input + \"!!\" + \" \" + welcome)"
   ]
  },
  {
   "cell_type": "code",
   "execution_count": 11,
   "metadata": {},
   "outputs": [],
   "source": [
    "# ask for hours and pay-rate and compute pay"
   ]
  },
  {
   "cell_type": "code",
   "execution_count": 17,
   "metadata": {},
   "outputs": [
    {
     "name": "stdin",
     "output_type": "stream",
     "text": [
      "How much do you make per hour? 17\n",
      "How many hours did you work this week? 4\n"
     ]
    },
    {
     "name": "stdout",
     "output_type": "stream",
     "text": [
      "Ok, your check will be $417\n"
     ]
    }
   ],
   "source": [
    "user_input_wage = input(\"How much do you make per hour?\")\n",
    "user_input_hours = input(\"How many hours did you work this week?\")\n",
    "pay = user_input_hours + user_input_wage\n",
    "print(f\"Ok, your check will be ${pay}\")"
   ]
  },
  {
   "cell_type": "code",
   "execution_count": 26,
   "metadata": {},
   "outputs": [],
   "source": [
    "# write value of the expression\n",
    "# write the tyope of that value"
   ]
  },
  {
   "cell_type": "code",
   "execution_count": 27,
   "metadata": {},
   "outputs": [],
   "source": [
    "width = 17\n",
    "height = 12.0"
   ]
  },
  {
   "cell_type": "code",
   "execution_count": 65,
   "metadata": {},
   "outputs": [
    {
     "name": "stdout",
     "output_type": "stream",
     "text": [
      "Question 1) = 8 , <class 'int'> \n",
      "\n",
      "Question 2) = 8.5 , <class 'float'> \n",
      "\n",
      "Question 3) = 4.0 , <class 'float'> \n",
      "\n",
      "Question 4) = 11 , <class 'int'> \n",
      "\n"
     ]
    }
   ],
   "source": [
    "# question_1\n",
    "question_1 = width//2\n",
    "print(\"Question 1) =\", question_1, \",\", type(question_1), \"\\n\")\n",
    "\n",
    "# question_2\n",
    "question_2 = width/2.0\n",
    "print(\"Question 2) =\", question_2, \",\", type(width/2.0), \"\\n\")\n",
    "\n",
    "# question_3\n",
    "question_3 = height/3\n",
    "print(\"Question 3) =\", question_3, \",\", type(question_3), \"\\n\")\n",
    "\n",
    "# question_4\n",
    "question_4 = 1 + 2 * 5\n",
    "print(\"Question 4) =\", question_4, \",\", type(question_4), \"\\n\")"
   ]
  },
  {
   "cell_type": "code",
   "execution_count": 66,
   "metadata": {},
   "outputs": [],
   "source": [
    "# ask user for a celcius temp\n",
    "# convert that temp tp farenheit"
   ]
  },
  {
   "cell_type": "code",
   "execution_count": 74,
   "metadata": {},
   "outputs": [
    {
     "name": "stdin",
     "output_type": "stream",
     "text": [
      "How hot is it in Celsius? 30\n"
     ]
    },
    {
     "name": "stdout",
     "output_type": "stream",
     "text": [
      "Woah! It's 86 degrees outside!!\n"
     ]
    }
   ],
   "source": [
    "# asks for celsius temp and converts to farenheit\n",
    "user_input_celsius = input(\"How hot is it in Celsius?\")\n",
    "formula_applied = (int(user_input_celsius) * (9.0 / 5.0)) + 32\n",
    "farenheit_temp = int(formula_applied)\n",
    "print(f\"Woah! It's {farenheit_temp} degrees outside!!\")"
   ]
  }
 ],
 "metadata": {
  "kernelspec": {
   "display_name": "Python 3",
   "language": "python",
   "name": "python3"
  },
  "language_info": {
   "codemirror_mode": {
    "name": "ipython",
    "version": 3
   },
   "file_extension": ".py",
   "mimetype": "text/x-python",
   "name": "python",
   "nbconvert_exporter": "python",
   "pygments_lexer": "ipython3",
   "version": "3.8.5"
  }
 },
 "nbformat": 4,
 "nbformat_minor": 4
}
