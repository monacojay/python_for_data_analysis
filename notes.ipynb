{
 "cells": [
  {
   "cell_type": "markdown",
   "metadata": {},
   "source": [
    "### Table of Contents\n",
    "* [Chained Conditionals](#chainedCond)\n",
    "* [Nested Conditionals](#nestedCond)\n",
    "* [Try n Except](#try/except)\n",
    "* [Guardian Evaluation](#guardianEval)\n",
    "* [Hourly Pay Calculator](#overtimePay)\n",
    "* [try/except-HourlyCalculator](#try/except-HourlyCalculator)\n",
    "* [Grade Scale](#gradeScale)"
   ]
  },
  {
   "cell_type": "markdown",
   "metadata": {},
   "source": [
    "### Chained Conditionals <a class=\"anchor\" id=\"chainedCond\"></a>"
   ]
  },
  {
   "cell_type": "code",
   "execution_count": 19,
   "metadata": {},
   "outputs": [
    {
     "name": "stdout",
     "output_type": "stream",
     "text": [
      "bigger\n"
     ]
    }
   ],
   "source": [
    "# Chained Conditionals\n",
    "x = 4\n",
    "\n",
    "if x > 3:\n",
    "    print(\"bigger\")\n",
    "elif x < 3:\n",
    "    print(\"smaller\")\n",
    "else:\n",
    "    print(\"same\")"
   ]
  },
  {
   "cell_type": "markdown",
   "metadata": {},
   "source": [
    "### Nested Conditionals <a class=\"anchor\" id=\"nestedCond\"></a>\n",
    "###### (Not best practice. Redundant.)"
   ]
  },
  {
   "cell_type": "code",
   "execution_count": 27,
   "metadata": {},
   "outputs": [
    {
     "name": "stdout",
     "output_type": "stream",
     "text": [
      "between 3 and 5\n"
     ]
    }
   ],
   "source": [
    "x = 5\n",
    "if x > 3:\n",
    "    if x > 5:\n",
    "        print(\"way bigger\")\n",
    "    else:\n",
    "        print(\"between 3 and 5\")\n",
    "else:\n",
    "    if x < 3:\n",
    "        print(\"smaller\")\n",
    "    else:\n",
    "        print(\"same\")"
   ]
  },
  {
   "cell_type": "markdown",
   "metadata": {},
   "source": [
    "### Try n Except <a class=\"anchor\" id=\"try/except\"></a> -> \"Catching an Exception\"\n",
    "###### (For use in potential error area)"
   ]
  },
  {
   "cell_type": "code",
   "execution_count": 42,
   "metadata": {},
   "outputs": [
    {
     "name": "stdin",
     "output_type": "stream",
     "text": [
      "What is the temo in Celsius? 40\n"
     ]
    },
    {
     "name": "stdout",
     "output_type": "stream",
     "text": [
      "The temp in Farenheit is: 104.0°F\n"
     ]
    }
   ],
   "source": [
    "# Fahrenheit converter input type example\n",
    "promptForCelsius = input(\"What is the temo in Celsius?\")\n",
    "try:\n",
    "    userGivenTemp = int(promptForCelsius)\n",
    "    convertedToFarenheit = (userGivenTemp * 1.8) + 32\n",
    "    print(f\"The temp in Farenheit is: {convertedToFarenheit}\\u00b0F\")\n",
    "except:\n",
    "    print(\"you must enter a number...\")"
   ]
  },
  {
   "cell_type": "markdown",
   "metadata": {},
   "source": [
    "### <a class=\"anchor\" id=\"guardianEval\">Guardian Evaluation</a>\n",
    "###### (succession conditionals)"
   ]
  },
  {
   "cell_type": "code",
   "execution_count": 50,
   "metadata": {},
   "outputs": [
    {
     "name": "stdout",
     "output_type": "stream",
     "text": [
      "0.2\n"
     ]
    }
   ],
   "source": [
    "# We put y != 0 right into our conditional to \"guard\" against the divide-by-zero error.\n",
    "x = 1\n",
    "y = 5\n",
    "if x > 0 and y != 0:\n",
    "    print(x / y)\n",
    "else:\n",
    "    print(x)"
   ]
  },
  {
   "cell_type": "code",
   "execution_count": 52,
   "metadata": {},
   "outputs": [],
   "source": [
    "# Compute pay with overtime\n",
    "# hours\n",
    "# rate\n",
    "# conditonal rate\n",
    "# sum both amounts"
   ]
  },
  {
   "cell_type": "markdown",
   "metadata": {},
   "source": [
    "### <a class=\"anchor\" id=\"overtimePay\">Hourly Pay Calculator program</a>"
   ]
  },
  {
   "cell_type": "code",
   "execution_count": 110,
   "metadata": {},
   "outputs": [
    {
     "name": "stdin",
     "output_type": "stream",
     "text": [
      "How many hours did you work? 41\n"
     ]
    },
    {
     "name": "stdout",
     "output_type": "stream",
     "text": [
      "You made $830\n"
     ]
    }
   ],
   "source": [
    "regRate = 20\n",
    "overtimeRate = regRate * 1.5\n",
    "\n",
    "hours = input(\"How many hours did you work?\")\n",
    "hours = int(hours)\n",
    "\n",
    "if hours > 40:\n",
    "    regPay = 40 * regRate\n",
    "    overtimePay = (hours - 40) * overtimeRate\n",
    "    pay = regPay + overtimePay\n",
    "else:\n",
    "    pay = hours * regRate   \n",
    "    \n",
    "pay = int(pay)\n",
    "\n",
    "print(f\"You made ${pay}\")"
   ]
  },
  {
   "cell_type": "markdown",
   "metadata": {},
   "source": [
    "### <a class=\"anchor\" id=\"try/except-HourlyCalculator\">Try/Except Hourly Calc</a>"
   ]
  },
  {
   "cell_type": "code",
   "execution_count": 112,
   "metadata": {},
   "outputs": [
    {
     "name": "stdin",
     "output_type": "stream",
     "text": [
      "How many hours did you work? 41\n"
     ]
    },
    {
     "name": "stdout",
     "output_type": "stream",
     "text": [
      "You made $830\n"
     ]
    }
   ],
   "source": [
    "regRate = 20\n",
    "overtimeRate = regRate * 1.5\n",
    "\n",
    "hours = input(\"How many hours did you work?\")\n",
    "hours = int(hours)\n",
    "try:\n",
    "    if hours > 40:\n",
    "        regPay = 40 * regRate\n",
    "        overtimePay = (hours - 40) * overtimeRate\n",
    "        pay = regPay + overtimePay\n",
    "    else:\n",
    "        pay = hours * regRate   \n",
    "except:\n",
    "    print(\"Please enter a number...\")\n",
    "pay = int(pay)\n",
    "\n",
    "print(f\"You made ${pay}\")"
   ]
  },
  {
   "cell_type": "markdown",
   "metadata": {},
   "source": [
    "### <a class=\"anchor\" id=\"gradeScale\">Grade Scale</a>"
   ]
  },
  {
   "cell_type": "code",
   "execution_count": 23,
   "metadata": {},
   "outputs": [
    {
     "name": "stdin",
     "output_type": "stream",
     "text": [
      "Enter a score between 0.0 and 1.0: 7\n"
     ]
    },
    {
     "name": "stdout",
     "output_type": "stream",
     "text": [
      "The score 7.0 is out of range.\n"
     ]
    }
   ],
   "source": [
    "userScore = input(\"Enter a score between 0.0 and 1.0:\")\n",
    "userScore = float(userScore)\n",
    "\n",
    "if userScore >= 0.9 and userScore <= 1.0:\n",
    "    print(\"Your grade is A\")\n",
    "elif userScore >= 0.8 and userScore < 0.9:\n",
    "    print(\"Your grade is B\")\n",
    "elif userScore >= 0.7 and userScore < 0.8:\n",
    "    print(\"Your grade is C\")\n",
    "elif userScore >= 0.6 and userScore < 0.7:\n",
    "    print(\"Your grade is D\")\n",
    "elif userScore < 0.6:\n",
    "    print(\"Your grade is F\")\n",
    "else:\n",
    "    print(f\"The score {userScore} is out of range.\")"
   ]
  }
 ],
 "metadata": {
  "kernelspec": {
   "display_name": "Python 3 (ipykernel)",
   "language": "python",
   "name": "python3"
  },
  "language_info": {
   "codemirror_mode": {
    "name": "ipython",
    "version": 3
   },
   "file_extension": ".py",
   "mimetype": "text/x-python",
   "name": "python",
   "nbconvert_exporter": "python",
   "pygments_lexer": "ipython3",
   "version": "3.9.4"
  }
 },
 "nbformat": 4,
 "nbformat_minor": 4
}
